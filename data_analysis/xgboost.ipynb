{
  "nbformat": 4,
  "nbformat_minor": 0,
  "metadata": {
    "interpreter": {
      "hash": "2c29f24f490fc11ce1e48d89a3d8a10c86c424066fbebe55fdecaa30f8bedbaf"
    },
    "kernelspec": {
      "display_name": "Python 3.8.3 64-bit ('venv': venv)",
      "language": "python",
      "name": "python3"
    },
    "language_info": {
      "codemirror_mode": {
        "name": "ipython",
        "version": 3
      },
      "file_extension": ".py",
      "mimetype": "text/x-python",
      "name": "python",
      "nbconvert_exporter": "python",
      "pygments_lexer": "ipython3",
      "version": "3.8.3"
    },
    "orig_nbformat": 4,
    "colab": {
      "name": "xgboost.ipynb",
      "provenance": []
    }
  },
  "cells": [
    {
      "cell_type": "code",
      "metadata": {
        "id": "FZgjdAxQRfvH"
      },
      "source": [
        "import pandas as pd\n",
        "from sklearn.model_selection import train_test_split\n",
        "from xgboost import XGBClassifier\n",
        "from sklearn.metrics import confusion_matrix, accuracy_score\n",
        "from sklearn.metrics import precision_score, recall_score\n",
        "from sklearn.metrics import f1_score, roc_auc_score"
      ],
      "execution_count": null,
      "outputs": []
    },
    {
      "cell_type": "code",
      "metadata": {
        "id": "8cKPXhLURfvO"
      },
      "source": [
        "# DATA load\n",
        "X = pd.read_csv('/loan_train_preprocessed.csv')\n",
        "\n",
        "# backward\n",
        "X = X[['term', 'initial_list_status', 'int_rate', \n",
        "'emp_length', 'annual_inc', 'dti', 'delinq_2yrs', \n",
        "'inq_last_6mths', 'revol_util', 'recoveries', \n",
        "'collection_recovery_fee', 'tot_cur_bal', \n",
        "'home_ownershipRENT', 'purposesmall_business', \n",
        "'purposewedding', 'earliest_cr_line2000']]\n",
        "\n",
        "y = pd.read_csv('/loan_train_label.csv')\n",
        "y = y.drop(['id'], axis=1)"
      ],
      "execution_count": null,
      "outputs": []
    },
    {
      "cell_type": "markdown",
      "metadata": {
        "id": "NySuFnnnR4HN"
      },
      "source": [
        "# 새 섹션"
      ]
    },
    {
      "cell_type": "markdown",
      "metadata": {
        "id": "mjV8R8N0R4iF"
      },
      "source": [
        "# 새 섹션"
      ]
    },
    {
      "cell_type": "code",
      "metadata": {
        "colab": {
          "base_uri": "https://localhost:8080/"
        },
        "id": "w2aFaP4HRfvP",
        "outputId": "4d91c6d8-ed55-4f8b-958b-870b71fee5cc"
      },
      "source": [
        "# Dividing the data into train and test\n",
        "from sklearn.model_selection import train_test_split\n",
        "x_train,x_test,y_train,y_test = train_test_split(X,y,test_size = 0.20 )\n",
        "x_train,x_val,y_train,y_val = train_test_split(x_train,y_train,test_size = 0.20 )\n",
        "\n",
        "x_train.shape,y_train.shape,x_val.shape,y_val.shape,x_test.shape,y_test.shape"
      ],
      "execution_count": null,
      "outputs": [
        {
          "output_type": "execute_result",
          "data": {
            "text/plain": [
              "((10240, 16), (10240, 1), (2560, 16), (2560, 1), (3200, 16), (3200, 1))"
            ]
          },
          "metadata": {},
          "execution_count": 11
        }
      ]
    },
    {
      "cell_type": "code",
      "metadata": {
        "id": "r820lmnZRfvS"
      },
      "source": [
        "# 수정된 get_clf_eval() 함수 \n",
        "def get_clf_eval(y_test, pred=None, pred_proba=None):\n",
        "    confusion = confusion_matrix( y_test, pred)\n",
        "    accuracy = accuracy_score(y_test , pred)\n",
        "    precision = precision_score(y_test , pred)\n",
        "    recall = recall_score(y_test , pred)\n",
        "    f1 = f1_score(y_test,pred)\n",
        "    # ROC-AUC 추가 \n",
        "    roc_auc = roc_auc_score(y_test, pred_proba)\n",
        "    print('오차 행렬')\n",
        "    print(confusion)\n",
        "    # ROC-AUC print 추가\n",
        "    print('정확도: {0:.4f}, 정밀도: {1:.4f}, 재현율: {2:.4f},\\\n",
        "    F1: {3:.4f}, AUC:{4:.4f}'.format(accuracy, precision, recall, f1, roc_auc))"
      ],
      "execution_count": null,
      "outputs": []
    },
    {
      "cell_type": "code",
      "metadata": {
        "colab": {
          "base_uri": "https://localhost:8080/"
        },
        "id": "BM5PjzJaRfvT",
        "outputId": "daae5248-a1b2-4368-d96d-732c5f9bd317"
      },
      "source": [
        "# XGBoost training\n",
        "evals = [(x_val, y_val)]\n",
        "\n",
        "xgb_wrapper = XGBClassifier(n_estimators=400, learning_rate=0.1, max_depth=3)\n",
        "xgb_wrapper.fit(x_train , y_train,  early_stopping_rounds=100, eval_set=evals, eval_metric=\"logloss\",  verbose=True)\n",
        "\n",
        "y_preds = xgb_wrapper.predict(x_test)\n",
        "y_pred_proba = xgb_wrapper.predict_proba(x_test)[:, 1]"
      ],
      "execution_count": null,
      "outputs": [
        {
          "output_type": "stream",
          "name": "stdout",
          "text": [
            "[0]\tvalidation_0-logloss:0.6706\n",
            "Will train until validation_0-logloss hasn't improved in 100 rounds.\n",
            "[1]\tvalidation_0-logloss:0.65153\n",
            "[2]\tvalidation_0-logloss:0.635886\n",
            "[3]\tvalidation_0-logloss:0.622483\n",
            "[4]\tvalidation_0-logloss:0.611157\n"
          ]
        },
        {
          "output_type": "stream",
          "name": "stderr",
          "text": [
            "/usr/local/lib/python3.7/dist-packages/sklearn/preprocessing/_label.py:98: DataConversionWarning: A column-vector y was passed when a 1d array was expected. Please change the shape of y to (n_samples, ), for example using ravel().\n",
            "  y = column_or_1d(y, warn=True)\n",
            "/usr/local/lib/python3.7/dist-packages/sklearn/preprocessing/_label.py:133: DataConversionWarning: A column-vector y was passed when a 1d array was expected. Please change the shape of y to (n_samples, ), for example using ravel().\n",
            "  y = column_or_1d(y, warn=True)\n"
          ]
        },
        {
          "output_type": "stream",
          "name": "stdout",
          "text": [
            "[5]\tvalidation_0-logloss:0.601318\n",
            "[6]\tvalidation_0-logloss:0.592991\n",
            "[7]\tvalidation_0-logloss:0.585778\n",
            "[8]\tvalidation_0-logloss:0.57941\n",
            "[9]\tvalidation_0-logloss:0.573957\n",
            "[10]\tvalidation_0-logloss:0.569153\n",
            "[11]\tvalidation_0-logloss:0.565075\n",
            "[12]\tvalidation_0-logloss:0.561316\n",
            "[13]\tvalidation_0-logloss:0.558025\n",
            "[14]\tvalidation_0-logloss:0.555281\n",
            "[15]\tvalidation_0-logloss:0.552779\n",
            "[16]\tvalidation_0-logloss:0.550422\n",
            "[17]\tvalidation_0-logloss:0.548191\n",
            "[18]\tvalidation_0-logloss:0.546304\n",
            "[19]\tvalidation_0-logloss:0.544665\n",
            "[20]\tvalidation_0-logloss:0.543185\n",
            "[21]\tvalidation_0-logloss:0.541783\n",
            "[22]\tvalidation_0-logloss:0.540578\n",
            "[23]\tvalidation_0-logloss:0.539485\n",
            "[24]\tvalidation_0-logloss:0.538427\n",
            "[25]\tvalidation_0-logloss:0.537428\n",
            "[26]\tvalidation_0-logloss:0.536634\n",
            "[27]\tvalidation_0-logloss:0.535695\n",
            "[28]\tvalidation_0-logloss:0.535005\n",
            "[29]\tvalidation_0-logloss:0.534263\n",
            "[30]\tvalidation_0-logloss:0.533635\n",
            "[31]\tvalidation_0-logloss:0.533114\n",
            "[32]\tvalidation_0-logloss:0.532775\n",
            "[33]\tvalidation_0-logloss:0.532238\n",
            "[34]\tvalidation_0-logloss:0.531912\n",
            "[35]\tvalidation_0-logloss:0.53163\n",
            "[36]\tvalidation_0-logloss:0.531215\n",
            "[37]\tvalidation_0-logloss:0.530909\n",
            "[38]\tvalidation_0-logloss:0.530539\n",
            "[39]\tvalidation_0-logloss:0.530265\n",
            "[40]\tvalidation_0-logloss:0.530128\n",
            "[41]\tvalidation_0-logloss:0.529953\n",
            "[42]\tvalidation_0-logloss:0.529676\n",
            "[43]\tvalidation_0-logloss:0.529634\n",
            "[44]\tvalidation_0-logloss:0.529477\n",
            "[45]\tvalidation_0-logloss:0.529311\n",
            "[46]\tvalidation_0-logloss:0.52919\n",
            "[47]\tvalidation_0-logloss:0.529023\n",
            "[48]\tvalidation_0-logloss:0.52897\n",
            "[49]\tvalidation_0-logloss:0.52899\n",
            "[50]\tvalidation_0-logloss:0.52911\n",
            "[51]\tvalidation_0-logloss:0.528944\n",
            "[52]\tvalidation_0-logloss:0.529056\n",
            "[53]\tvalidation_0-logloss:0.529045\n",
            "[54]\tvalidation_0-logloss:0.528934\n",
            "[55]\tvalidation_0-logloss:0.528889\n",
            "[56]\tvalidation_0-logloss:0.528847\n",
            "[57]\tvalidation_0-logloss:0.528824\n",
            "[58]\tvalidation_0-logloss:0.528723\n",
            "[59]\tvalidation_0-logloss:0.528727\n",
            "[60]\tvalidation_0-logloss:0.52875\n",
            "[61]\tvalidation_0-logloss:0.528837\n",
            "[62]\tvalidation_0-logloss:0.528741\n",
            "[63]\tvalidation_0-logloss:0.52869\n",
            "[64]\tvalidation_0-logloss:0.528752\n",
            "[65]\tvalidation_0-logloss:0.528656\n",
            "[66]\tvalidation_0-logloss:0.528598\n",
            "[67]\tvalidation_0-logloss:0.528569\n",
            "[68]\tvalidation_0-logloss:0.528747\n",
            "[69]\tvalidation_0-logloss:0.528581\n",
            "[70]\tvalidation_0-logloss:0.528725\n",
            "[71]\tvalidation_0-logloss:0.528838\n",
            "[72]\tvalidation_0-logloss:0.528744\n",
            "[73]\tvalidation_0-logloss:0.528733\n",
            "[74]\tvalidation_0-logloss:0.528752\n",
            "[75]\tvalidation_0-logloss:0.52876\n",
            "[76]\tvalidation_0-logloss:0.528792\n",
            "[77]\tvalidation_0-logloss:0.528797\n",
            "[78]\tvalidation_0-logloss:0.528694\n",
            "[79]\tvalidation_0-logloss:0.528668\n",
            "[80]\tvalidation_0-logloss:0.528772\n",
            "[81]\tvalidation_0-logloss:0.528819\n",
            "[82]\tvalidation_0-logloss:0.528814\n",
            "[83]\tvalidation_0-logloss:0.528867\n",
            "[84]\tvalidation_0-logloss:0.52889\n",
            "[85]\tvalidation_0-logloss:0.528887\n",
            "[86]\tvalidation_0-logloss:0.529072\n",
            "[87]\tvalidation_0-logloss:0.52901\n",
            "[88]\tvalidation_0-logloss:0.529139\n",
            "[89]\tvalidation_0-logloss:0.529259\n",
            "[90]\tvalidation_0-logloss:0.529267\n",
            "[91]\tvalidation_0-logloss:0.529421\n",
            "[92]\tvalidation_0-logloss:0.529314\n",
            "[93]\tvalidation_0-logloss:0.529282\n",
            "[94]\tvalidation_0-logloss:0.529291\n",
            "[95]\tvalidation_0-logloss:0.529226\n",
            "[96]\tvalidation_0-logloss:0.529197\n",
            "[97]\tvalidation_0-logloss:0.52923\n",
            "[98]\tvalidation_0-logloss:0.529303\n",
            "[99]\tvalidation_0-logloss:0.529296\n",
            "[100]\tvalidation_0-logloss:0.529403\n",
            "[101]\tvalidation_0-logloss:0.529625\n",
            "[102]\tvalidation_0-logloss:0.529793\n",
            "[103]\tvalidation_0-logloss:0.529825\n",
            "[104]\tvalidation_0-logloss:0.529824\n",
            "[105]\tvalidation_0-logloss:0.529874\n",
            "[106]\tvalidation_0-logloss:0.529916\n",
            "[107]\tvalidation_0-logloss:0.529976\n",
            "[108]\tvalidation_0-logloss:0.530009\n",
            "[109]\tvalidation_0-logloss:0.530016\n",
            "[110]\tvalidation_0-logloss:0.53027\n",
            "[111]\tvalidation_0-logloss:0.530347\n",
            "[112]\tvalidation_0-logloss:0.530322\n",
            "[113]\tvalidation_0-logloss:0.530367\n",
            "[114]\tvalidation_0-logloss:0.530447\n",
            "[115]\tvalidation_0-logloss:0.530601\n",
            "[116]\tvalidation_0-logloss:0.530602\n",
            "[117]\tvalidation_0-logloss:0.530672\n",
            "[118]\tvalidation_0-logloss:0.530662\n",
            "[119]\tvalidation_0-logloss:0.53066\n",
            "[120]\tvalidation_0-logloss:0.530731\n",
            "[121]\tvalidation_0-logloss:0.530735\n",
            "[122]\tvalidation_0-logloss:0.530705\n",
            "[123]\tvalidation_0-logloss:0.53073\n",
            "[124]\tvalidation_0-logloss:0.530824\n",
            "[125]\tvalidation_0-logloss:0.530914\n",
            "[126]\tvalidation_0-logloss:0.530904\n",
            "[127]\tvalidation_0-logloss:0.530853\n",
            "[128]\tvalidation_0-logloss:0.530896\n",
            "[129]\tvalidation_0-logloss:0.53091\n",
            "[130]\tvalidation_0-logloss:0.530829\n",
            "[131]\tvalidation_0-logloss:0.530848\n",
            "[132]\tvalidation_0-logloss:0.530851\n",
            "[133]\tvalidation_0-logloss:0.530845\n",
            "[134]\tvalidation_0-logloss:0.530914\n",
            "[135]\tvalidation_0-logloss:0.530768\n",
            "[136]\tvalidation_0-logloss:0.530811\n",
            "[137]\tvalidation_0-logloss:0.530804\n",
            "[138]\tvalidation_0-logloss:0.530806\n",
            "[139]\tvalidation_0-logloss:0.530749\n",
            "[140]\tvalidation_0-logloss:0.530745\n",
            "[141]\tvalidation_0-logloss:0.53068\n",
            "[142]\tvalidation_0-logloss:0.530627\n",
            "[143]\tvalidation_0-logloss:0.530585\n",
            "[144]\tvalidation_0-logloss:0.530602\n",
            "[145]\tvalidation_0-logloss:0.530588\n",
            "[146]\tvalidation_0-logloss:0.530758\n",
            "[147]\tvalidation_0-logloss:0.530727\n",
            "[148]\tvalidation_0-logloss:0.530673\n",
            "[149]\tvalidation_0-logloss:0.530672\n",
            "[150]\tvalidation_0-logloss:0.530777\n",
            "[151]\tvalidation_0-logloss:0.531027\n",
            "[152]\tvalidation_0-logloss:0.531125\n",
            "[153]\tvalidation_0-logloss:0.531157\n",
            "[154]\tvalidation_0-logloss:0.531196\n",
            "[155]\tvalidation_0-logloss:0.531361\n",
            "[156]\tvalidation_0-logloss:0.531351\n",
            "[157]\tvalidation_0-logloss:0.531204\n",
            "[158]\tvalidation_0-logloss:0.531326\n",
            "[159]\tvalidation_0-logloss:0.531344\n",
            "[160]\tvalidation_0-logloss:0.531259\n",
            "[161]\tvalidation_0-logloss:0.531282\n",
            "[162]\tvalidation_0-logloss:0.531308\n",
            "[163]\tvalidation_0-logloss:0.53157\n",
            "[164]\tvalidation_0-logloss:0.531518\n",
            "[165]\tvalidation_0-logloss:0.531498\n",
            "[166]\tvalidation_0-logloss:0.531741\n",
            "[167]\tvalidation_0-logloss:0.531718\n",
            "Stopping. Best iteration:\n",
            "[67]\tvalidation_0-logloss:0.528569\n",
            "\n"
          ]
        }
      ]
    },
    {
      "cell_type": "code",
      "metadata": {
        "colab": {
          "base_uri": "https://localhost:8080/"
        },
        "id": "a_tK0uRARfvV",
        "outputId": "ef0d2cee-f4fd-46c4-c1e7-73804d260ed4"
      },
      "source": [
        "get_clf_eval(y_test, y_preds, y_pred_proba)"
      ],
      "execution_count": null,
      "outputs": [
        {
          "output_type": "stream",
          "name": "stdout",
          "text": [
            "오차 행렬\n",
            "[[1159  416]\n",
            " [ 540 1085]]\n",
            "정확도: 0.7013, 정밀도: 0.7229, 재현율: 0.6677,    F1: 0.6942, AUC:0.7879\n"
          ]
        }
      ]
    }
  ]
}